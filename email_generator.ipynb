{
 "cells": [
  {
   "cell_type": "markdown",
   "metadata": {},
   "source": [
    "## 1. Job Posting"
   ]
  },
  {
   "cell_type": "markdown",
   "metadata": {},
   "source": [
    "### data ingestion"
   ]
  },
  {
   "cell_type": "code",
   "execution_count": 25,
   "metadata": {},
   "outputs": [
    {
     "name": "stdout",
     "output_type": "stream",
     "text": [
      "\n",
      "\n",
      "\n",
      "\n",
      "\n",
      "\n",
      "\n",
      "\n",
      "\n",
      "Machine Learning Engineer - Jobs at Apple (IN)\n",
      "\n",
      "\n",
      "\n",
      "\n",
      "\n",
      "\n",
      "\n",
      "AppleStoreMaciPadiPhoneWatchAirPodsTV & HomeEntertainmentAccessoriesSupport\n",
      "\n",
      "\n",
      "0+\n",
      "Jobs at AppleOpen MenuClose Menu\n",
      "\n",
      "      Work at Apple\n",
      "    \n",
      " \n",
      "\n",
      "      Life at Apple\n",
      "    \n",
      " \n",
      "\n",
      "      Profile\n",
      "    \n",
      " \n",
      "\n",
      "      Sign In\n",
      "    \n",
      " \n",
      "Search\n",
      "Jobs at Apple\n",
      "Machine Learning EngineerHyderabad, Telangana, IndiaSoftware and ServicesAdd to Favourites Machine Learning EngineerRemoved from favouritesAdd a favoriteCloseTo view your favourites, sign in with your Apple Account.Sign InDon’t have an Apple Account?Create one nowForgot your Apple Account or password?Submit CVMachine Learning EngineerBack to search resultsSummaryPosted: 18 Jul 2024Role Number:200536464The people here at Apple don’t just build products — we craft the kind of wonder that’s revolutionized entire industries. It’s the diversity of those people and their ideas that supports the innovation that runs through everything we do, from amazing technology to industry-leading environmental efforts. Join Apple, and help us leave the world better than we found it.\n",
      "\n",
      "The Global Business Intelligence team provides data services, analytics, reporting, and data science solutions to Apple’s business groups, including Retail, iTunes, Marketing, AppleCare, Operations, Finance, and Sales. These solutions are built on top of an end-to-end machine learning platform with sophisticated AI capabilities. We are looking for a competent, experienced, and driven machine learning engineer to define and build some of the best-in-class machine learning solutions and tools for Apple.DescriptionDescriptionAs a Machine Learning Engineer, you will work on building intelligent systems to democratize AI across a wide range of solutions within Apple. You will drive the development and deployment of innovative AI models and systems that directly impact the capabilities and performance of Apple’s products and services. You will implement robust, scalable ML infrastructure, including data storage, processing, and model serving components, to support seamless integration of AI/ML models into production environments. You will develop novel feature engineering, data augmentation, prompt engineering and fine-tuning frameworks that achieve optimal performance on specific tasks and domains. You will design and implement automated ML pipelines for data preprocessing, feature engineering, model training, hyper-parameter tuning, and model evaluation, enabling rapid experimentation and iteration. You will also implement advanced model compression and optimization techniques to reduce the resource footprint of language models while preserving their performance. \n",
      "\n",
      "Have continuous focus to Brainstorm and Design various POCs using AI/ML Services for new or existing enterprise problems.\n",
      "\n",
      "\n",
      "YOU SHOULD BE ABLE TO:\n",
      "-  Understand a business challenge\n",
      "\n",
      "-  Collaborate with business and other multi-functional teams \n",
      "\n",
      "-  Design a statistical or deep learning solution to find the needed answer to it.\n",
      "\n",
      "-  Develop it by yourself or guide another person to do it.\n",
      "\n",
      "-  Deliver the outcome into production, (v) Keep a good governance of your work. \n",
      "\n",
      "There are meaningful opportunities for you deliver impactful influences to Apple.Minimum QualificationsMinimum QualificationsKey QualificationsKey Qualifications4+ years of ML engineering experience in feature engineering, model training, model serving, model monitoring and model refresh managementExperience developing AI/ML systems at scale in production or in high-impact research environmentsPassionate about computer vision, natural language processing, especially in LLMs and Generative AI systemsKnowledge with the common frameworks and tools such as PyPorch or TensorFlowExperience with transformer models such as BERT, GPT etc. and understanding of their underlying principles is a plusStrong coding, analytical, software engineering skills, and familiarity with software engineering principles around testing, code reviews and deploymentExperience in handling performance, application and security log managementApplied knowledge of statistical data analysis, predictive modeling classification, Time Series techniques, sampling methods, multivariate analysis, hypothesis testing, and drift analysis.Proficiency in programming languages and tools like Python, R, Git, Airflow, Notebooks.Experience with data visualization tools like matplotlib, d3.js., Tableau would be a plusPreferred QualificationsPreferred QualificationsEducation & ExperienceEducation & ExperienceBachelor’s Degree or Equivalent experienceAdditional RequirementsAdditional RequirementsMoreSubmit CVMachine Learning EngineerBack to search resultsAdd to Favourites Machine Learning EngineerRemoved from favouritesAdd a favoriteCloseTo view your favourites, sign in with your Apple Account.Sign InDon’t have an Apple Account?Create one nowForgot your Apple Account or password?See all roles in  Hyderabad  \n",
      "Apple FooterAt Apple, we’re not all the same. And that’s our greatest strength. We draw on the differences in who we are, what we’ve experienced, and how we think. Because to create products that serve everyone, we believe in including everyone. Therefore, we are committed to treating all applicants fairly and equally. We will work with applicants to make any reasonable accommodations.AppleCareers at AppleCareers at AppleShop and LearnShop and LearnStoreMaciPadiPhoneWatchAirPodsTV & HomeAirTagAccessoriesGift CardsApple WalletApple WalletWalletAccountAccountManage Your Apple IDApple Store AccountiCloud.comEntertainmentEntertainmentApple OneApple TV+Apple MusicApple ArcadeApple PodcastsApple BooksApp StoreApple StoreApple StoreFind a StoreGenius BarToday at AppleGroup ReservationsApple CampApple Trade InWays to BuyRecycling ProgrammeOrder StatusShopping HelpFor BusinessFor BusinessApple and BusinessShop for BusinessFor EducationFor EducationApple and EducationShop for EducationShop for UniversityFor HealthcareFor HealthcareApple in HealthcareHealth on Apple WatchApple ValuesApple ValuesAccessibilityEducationEnvironmentPrivacySupply ChainAbout AppleAbout AppleNewsroomApple LeadershipCareer OpportunitiesInvestorsEthics & ComplianceEventsContact Apple\n",
      "More ways to shop: Find an Apple Store or other retailer near you. Or call 000800 040 1966.IndiaCopyright © 2024 Apple Inc. All rights reserved.Privacy PolicyTerms of UseSales PolicyLegalSite Map\n",
      "\n",
      "\n",
      "\n",
      "\n",
      "\n",
      "\n",
      "\n",
      "\n",
      "\n",
      "\n",
      "\n"
     ]
    }
   ],
   "source": [
    "from langchain_community.document_loaders import WebBaseLoader\n",
    "\n",
    "loader = WebBaseLoader(\"https://jobs.apple.com/en-in/details/200536464/machine-learning-engineer\")\n",
    "\n",
    "page_data = loader.load().pop().page_content\n",
    "print(page_data)"
   ]
  },
  {
   "cell_type": "markdown",
   "metadata": {},
   "source": [
    "### LLM"
   ]
  },
  {
   "cell_type": "code",
   "execution_count": 24,
   "metadata": {},
   "outputs": [
    {
     "name": "stdout",
     "output_type": "stream",
     "text": [
      "The first person to land on the moon was Neil Armstrong. He stepped out of the lunar module Eagle and onto the moon's surface on July 20, 1969, as part of the Apollo 11 mission. Armstrong famously declared, \"That's one small step for man, one giant leap for mankind,\" as he became the first human to set foot on the moon.\n"
     ]
    }
   ],
   "source": [
    "from langchain_groq import ChatGroq\n",
    "\n",
    "llm = ChatGroq(\n",
    "    temperature=0, \n",
    "    model_name=\"llama-3.1-70b-versatile\"\n",
    ")\n",
    "\n",
    "test_response = llm.invoke(\"The first person to land on moon was ...\")\n",
    "print(test_response.content)"
   ]
  },
  {
   "cell_type": "markdown",
   "metadata": {},
   "source": [
    "### prompt"
   ]
  },
  {
   "cell_type": "code",
   "execution_count": 26,
   "metadata": {},
   "outputs": [
    {
     "data": {
      "text/plain": [
       "PromptTemplate(input_variables=['page_data'], input_types={}, partial_variables={}, template=\"\\n    ### SCRAPED TEXT FROM WEBSITE:\\n    {page_data}\\n\\n    ### INSTRUCTION:\\n    The scraped text is from the career's page of a website.\\n    Your job is to extract the job postings and return them in JSON format containing the \\n    following keys: `role`, `experience`, `skills` and `description`.\\n\\n    Only return the valid JSON.\\n    ### VALID JSON (NO PREAMBLE):\\n    \")"
      ]
     },
     "execution_count": 26,
     "metadata": {},
     "output_type": "execute_result"
    }
   ],
   "source": [
    "from langchain_core.prompts import PromptTemplate\n",
    "\n",
    "extract_prompt = PromptTemplate.from_template(\n",
    "    \"\"\"\n",
    "    ### SCRAPED TEXT FROM WEBSITE:\n",
    "    {page_data}\n",
    "\n",
    "    ### INSTRUCTION:\n",
    "    The scraped text is from the career's page of a website.\n",
    "    Your job is to extract the job postings and return them in JSON format containing the \n",
    "    following keys: `role`, `experience`, `skills` and `description`.\n",
    "\n",
    "    Only return the valid JSON.\n",
    "    ### VALID JSON (NO PREAMBLE):\n",
    "    \"\"\"\n",
    ")\n",
    "\n",
    "extract_prompt"
   ]
  },
  {
   "cell_type": "markdown",
   "metadata": {},
   "source": [
    "### chain"
   ]
  },
  {
   "cell_type": "code",
   "execution_count": 27,
   "metadata": {},
   "outputs": [
    {
     "data": {
      "text/plain": [
       "PromptTemplate(input_variables=['page_data'], input_types={}, partial_variables={}, template=\"\\n    ### SCRAPED TEXT FROM WEBSITE:\\n    {page_data}\\n\\n    ### INSTRUCTION:\\n    The scraped text is from the career's page of a website.\\n    Your job is to extract the job postings and return them in JSON format containing the \\n    following keys: `role`, `experience`, `skills` and `description`.\\n\\n    Only return the valid JSON.\\n    ### VALID JSON (NO PREAMBLE):\\n    \")\n",
       "| ChatGroq(client=<groq.resources.chat.completions.Completions object at 0x00000154E41987D0>, async_client=<groq.resources.chat.completions.AsyncCompletions object at 0x00000154E419A210>, model_name='llama-3.1-70b-versatile', temperature=1e-08, model_kwargs={}, groq_api_key=SecretStr('**********'))"
      ]
     },
     "execution_count": 27,
     "metadata": {},
     "output_type": "execute_result"
    }
   ],
   "source": [
    "extract_chain = extract_prompt | llm\n",
    "extract_chain"
   ]
  },
  {
   "cell_type": "markdown",
   "metadata": {},
   "source": [
    "### response"
   ]
  },
  {
   "cell_type": "code",
   "execution_count": 28,
   "metadata": {},
   "outputs": [
    {
     "data": {
      "text/plain": [
       "AIMessage(content='```json\\n{\\n  \"role\": \"Machine Learning Engineer\",\\n  \"experience\": \"4+ years of ML engineering experience\",\\n  \"skills\": [\\n    \"PyPorch\",\\n    \"TensorFlow\",\\n    \"Transformer models\",\\n    \"BERT\",\\n    \"GPT\",\\n    \"Python\",\\n    \"R\",\\n    \"Git\",\\n    \"Airflow\",\\n    \"Notebooks\",\\n    \"Matplotlib\",\\n    \"D3.js\",\\n    \"Tableau\"\\n  ],\\n  \"description\": \"The Global Business Intelligence team provides data services, analytics, reporting, and data science solutions to Apple’s business groups. We are looking for a competent, experienced, and driven machine learning engineer to define and build some of the best-in-class machine learning solutions and tools for Apple.\"\\n}\\n```', additional_kwargs={}, response_metadata={'token_usage': {'completion_tokens': 159, 'prompt_tokens': 1312, 'total_tokens': 1471, 'completion_time': 0.578181818, 'prompt_time': 0.144964551, 'queue_time': 0.27112210600000003, 'total_time': 0.723146369}, 'model_name': 'llama-3.1-70b-versatile', 'system_fingerprint': 'fp_7b42aeb9fa', 'finish_reason': 'stop', 'logprobs': None}, id='run-3f90963b-2fbb-48f8-aaf0-14bb18c6e3e1-0', usage_metadata={'input_tokens': 1312, 'output_tokens': 159, 'total_tokens': 1471})"
      ]
     },
     "execution_count": 28,
     "metadata": {},
     "output_type": "execute_result"
    }
   ],
   "source": [
    "response = extract_chain.invoke(input={'page_data': page_data})\n",
    "response"
   ]
  },
  {
   "cell_type": "code",
   "execution_count": 29,
   "metadata": {},
   "outputs": [
    {
     "name": "stdout",
     "output_type": "stream",
     "text": [
      "<class 'str'>\n",
      "```json\n",
      "{\n",
      "  \"role\": \"Machine Learning Engineer\",\n",
      "  \"experience\": \"4+ years of ML engineering experience\",\n",
      "  \"skills\": [\n",
      "    \"PyPorch\",\n",
      "    \"TensorFlow\",\n",
      "    \"Transformer models\",\n",
      "    \"BERT\",\n",
      "    \"GPT\",\n",
      "    \"Python\",\n",
      "    \"R\",\n",
      "    \"Git\",\n",
      "    \"Airflow\",\n",
      "    \"Notebooks\",\n",
      "    \"Matplotlib\",\n",
      "    \"D3.js\",\n",
      "    \"Tableau\"\n",
      "  ],\n",
      "  \"description\": \"The Global Business Intelligence team provides data services, analytics, reporting, and data science solutions to Apple’s business groups. We are looking for a competent, experienced, and driven machine learning engineer to define and build some of the best-in-class machine learning solutions and tools for Apple.\"\n",
      "}\n",
      "```\n"
     ]
    }
   ],
   "source": [
    "print(type(response.content))\n",
    "print(response.content)"
   ]
  },
  {
   "cell_type": "code",
   "execution_count": 30,
   "metadata": {},
   "outputs": [
    {
     "name": "stdout",
     "output_type": "stream",
     "text": [
      "<class 'dict'>\n",
      "{'description': 'The Global Business Intelligence team provides data services, '\n",
      "                'analytics, reporting, and data science solutions to Apple’s '\n",
      "                'business groups. We are looking for a competent, experienced, '\n",
      "                'and driven machine learning engineer to define and build some '\n",
      "                'of the best-in-class machine learning solutions and tools for '\n",
      "                'Apple.',\n",
      " 'experience': '4+ years of ML engineering experience',\n",
      " 'role': 'Machine Learning Engineer',\n",
      " 'skills': ['PyPorch',\n",
      "            'TensorFlow',\n",
      "            'Transformer models',\n",
      "            'BERT',\n",
      "            'GPT',\n",
      "            'Python',\n",
      "            'R',\n",
      "            'Git',\n",
      "            'Airflow',\n",
      "            'Notebooks',\n",
      "            'Matplotlib',\n",
      "            'D3.js',\n",
      "            'Tableau']}\n"
     ]
    }
   ],
   "source": [
    "from langchain_core.output_parsers import JsonOutputParser\n",
    "from pprint import pprint\n",
    "\n",
    "json_parser = JsonOutputParser()\n",
    "json_response = json_parser.parse(response.content)\n",
    "print(type(json_response))\n",
    "pprint(json_response, depth=2)"
   ]
  },
  {
   "cell_type": "markdown",
   "metadata": {},
   "source": [
    "## 2. Email Portfolio"
   ]
  },
  {
   "cell_type": "markdown",
   "metadata": {},
   "source": [
    "### data ingestion"
   ]
  },
  {
   "cell_type": "code",
   "execution_count": 31,
   "metadata": {},
   "outputs": [
    {
     "data": {
      "text/html": [
       "<div>\n",
       "<style scoped>\n",
       "    .dataframe tbody tr th:only-of-type {\n",
       "        vertical-align: middle;\n",
       "    }\n",
       "\n",
       "    .dataframe tbody tr th {\n",
       "        vertical-align: top;\n",
       "    }\n",
       "\n",
       "    .dataframe thead th {\n",
       "        text-align: right;\n",
       "    }\n",
       "</style>\n",
       "<table border=\"1\" class=\"dataframe\">\n",
       "  <thead>\n",
       "    <tr style=\"text-align: right;\">\n",
       "      <th></th>\n",
       "      <th>Techstack</th>\n",
       "      <th>Links</th>\n",
       "    </tr>\n",
       "  </thead>\n",
       "  <tbody>\n",
       "    <tr>\n",
       "      <th>0</th>\n",
       "      <td>React, Node.js, MongoDB</td>\n",
       "      <td>https://example.com/react-portfolio</td>\n",
       "    </tr>\n",
       "    <tr>\n",
       "      <th>1</th>\n",
       "      <td>Angular,.NET, SQL Server</td>\n",
       "      <td>https://example.com/angular-portfolio</td>\n",
       "    </tr>\n",
       "    <tr>\n",
       "      <th>2</th>\n",
       "      <td>Vue.js, Ruby on Rails, PostgreSQL</td>\n",
       "      <td>https://example.com/vue-portfolio</td>\n",
       "    </tr>\n",
       "    <tr>\n",
       "      <th>3</th>\n",
       "      <td>Python, Django, MySQL</td>\n",
       "      <td>https://example.com/python-portfolio</td>\n",
       "    </tr>\n",
       "    <tr>\n",
       "      <th>4</th>\n",
       "      <td>Java, Spring Boot, Oracle</td>\n",
       "      <td>https://example.com/java-portfolio</td>\n",
       "    </tr>\n",
       "  </tbody>\n",
       "</table>\n",
       "</div>"
      ],
      "text/plain": [
       "                           Techstack                                  Links\n",
       "0            React, Node.js, MongoDB    https://example.com/react-portfolio\n",
       "1           Angular,.NET, SQL Server  https://example.com/angular-portfolio\n",
       "2  Vue.js, Ruby on Rails, PostgreSQL      https://example.com/vue-portfolio\n",
       "3              Python, Django, MySQL   https://example.com/python-portfolio\n",
       "4          Java, Spring Boot, Oracle     https://example.com/java-portfolio"
      ]
     },
     "execution_count": 31,
     "metadata": {},
     "output_type": "execute_result"
    }
   ],
   "source": [
    "import pandas as pd\n",
    "df = pd.read_csv('my_portfolio.csv')\n",
    "df.head()"
   ]
  },
  {
   "cell_type": "markdown",
   "metadata": {},
   "source": [
    "### vector store"
   ]
  },
  {
   "cell_type": "code",
   "execution_count": 32,
   "metadata": {},
   "outputs": [],
   "source": [
    "import chromadb\n",
    "import uuid\n",
    "\n",
    "client = chromadb.PersistentClient('vectorstore')\n",
    "collection = client.get_or_create_collection(name='portfolio')\n",
    "\n",
    "if not collection.count():\n",
    "    for _, row in df.iterrows():\n",
    "        collection.add(documents=row['Techstack'],\n",
    "                       metadatas={'links': row['Links']},\n",
    "                       ids=[str(uuid.uuid4())])"
   ]
  },
  {
   "cell_type": "code",
   "execution_count": 33,
   "metadata": {},
   "outputs": [
    {
     "data": {
      "text/plain": [
       "[[{'links': 'https://example.com/ml-python-portfolio'},\n",
       "  {'links': 'https://example.com/python-portfolio'}],\n",
       " [{'links': 'https://example.com/react-portfolio'},\n",
       "  {'links': 'https://example.com/react-native-portfolio'}]]"
      ]
     },
     "execution_count": 33,
     "metadata": {},
     "output_type": "execute_result"
    }
   ],
   "source": [
    "links = collection.query(query_texts=['experience in python', 'experience in react'], n_results=2).get('metadatas', [])\n",
    "links"
   ]
  },
  {
   "cell_type": "code",
   "execution_count": 34,
   "metadata": {},
   "outputs": [
    {
     "data": {
      "text/plain": [
       "['PyPorch',\n",
       " 'TensorFlow',\n",
       " 'Transformer models',\n",
       " 'BERT',\n",
       " 'GPT',\n",
       " 'Python',\n",
       " 'R',\n",
       " 'Git',\n",
       " 'Airflow',\n",
       " 'Notebooks',\n",
       " 'Matplotlib',\n",
       " 'D3.js',\n",
       " 'Tableau']"
      ]
     },
     "execution_count": 34,
     "metadata": {},
     "output_type": "execute_result"
    }
   ],
   "source": [
    "job = json_response\n",
    "job['skills']"
   ]
  },
  {
   "cell_type": "code",
   "execution_count": 35,
   "metadata": {},
   "outputs": [
    {
     "name": "stdout",
     "output_type": "stream",
     "text": [
      "PyPorch\n",
      "[{'links': 'https://example.com/ml-python-portfolio'}, {'links': 'https://example.com/kotlin-backend-portfolio'}]\n",
      "--------------------\n",
      "TensorFlow\n",
      "[{'links': 'https://example.com/ml-python-portfolio'}, {'links': 'https://example.com/ios-ar-portfolio'}]\n",
      "--------------------\n",
      "Transformer models\n",
      "[{'links': 'https://example.com/ml-python-portfolio'}, {'links': 'https://example.com/typescript-frontend-portfolio'}]\n",
      "--------------------\n",
      "BERT\n",
      "[{'links': 'https://example.com/ml-python-portfolio'}, {'links': 'https://example.com/python-portfolio'}]\n",
      "--------------------\n",
      "GPT\n",
      "[{'links': 'https://example.com/ml-python-portfolio'}, {'links': 'https://example.com/ios-ar-portfolio'}]\n",
      "--------------------\n",
      "Python\n",
      "[{'links': 'https://example.com/ml-python-portfolio'}, {'links': 'https://example.com/python-portfolio'}]\n",
      "--------------------\n",
      "R\n",
      "[{'links': 'https://example.com/android-tv-portfolio'}, {'links': 'https://example.com/java-portfolio'}]\n",
      "--------------------\n",
      "Git\n",
      "[{'links': 'https://example.com/devops-portfolio'}, {'links': 'https://example.com/kotlin-android-portfolio'}]\n",
      "--------------------\n",
      "Airflow\n",
      "[{'links': 'https://example.com/ml-python-portfolio'}, {'links': 'https://example.com/ios-ar-portfolio'}]\n",
      "--------------------\n",
      "Notebooks\n",
      "[{'links': 'https://example.com/ml-python-portfolio'}, {'links': 'https://example.com/python-portfolio'}]\n",
      "--------------------\n",
      "Matplotlib\n",
      "[{'links': 'https://example.com/ml-python-portfolio'}, {'links': 'https://example.com/python-portfolio'}]\n",
      "--------------------\n",
      "D3.js\n",
      "[{'links': 'https://example.com/full-stack-js-portfolio'}, {'links': 'https://example.com/react-portfolio'}]\n",
      "--------------------\n",
      "Tableau\n",
      "[{'links': 'https://example.com/flutter-portfolio'}, {'links': 'https://example.com/android-tv-portfolio'}]\n",
      "--------------------\n"
     ]
    }
   ],
   "source": [
    "links = collection.query(query_texts=job['skills'], n_results=2).get('metadatas')\n",
    "\n",
    "for i in range(len(links)):\n",
    "    print(job['skills'][i])\n",
    "    print(links[i])\n",
    "    print('-'*20)"
   ]
  },
  {
   "cell_type": "code",
   "execution_count": 36,
   "metadata": {},
   "outputs": [
    {
     "data": {
      "text/plain": [
       "{'role': 'Machine Learning Engineer',\n",
       " 'experience': '4+ years of ML engineering experience',\n",
       " 'skills': ['PyPorch',\n",
       "  'TensorFlow',\n",
       "  'Transformer models',\n",
       "  'BERT',\n",
       "  'GPT',\n",
       "  'Python',\n",
       "  'R',\n",
       "  'Git',\n",
       "  'Airflow',\n",
       "  'Notebooks',\n",
       "  'Matplotlib',\n",
       "  'D3.js',\n",
       "  'Tableau'],\n",
       " 'description': 'The Global Business Intelligence team provides data services, analytics, reporting, and data science solutions to Apple’s business groups. We are looking for a competent, experienced, and driven machine learning engineer to define and build some of the best-in-class machine learning solutions and tools for Apple.'}"
      ]
     },
     "execution_count": 36,
     "metadata": {},
     "output_type": "execute_result"
    }
   ],
   "source": [
    "job"
   ]
  },
  {
   "cell_type": "markdown",
   "metadata": {},
   "source": [
    "### prompt"
   ]
  },
  {
   "cell_type": "code",
   "execution_count": 37,
   "metadata": {},
   "outputs": [
    {
     "data": {
      "text/plain": [
       "PromptTemplate(input_variables=['job_description', 'links_list'], input_types={}, partial_variables={}, template=\"\\n        ### JOB DESCRIPTION:\\n        {job_description}\\n        \\n        ### INSTRUCTION:\\n        You are Rocky, a business development executive at AtliQ. AtliQ is an AI & Software Consulting company dedicated to facilitating\\n        the seamless integration of business processes through automated tools. \\n        Over our experience, we have empowered numerous enterprises with tailored solutions, fostering scalability, \\n        process optimization, cost reduction, and heightened overall efficiency. \\n        Your job is to write a cold email to the client regarding the job mentioned above describing the capability of AtliQ \\n        in fulfilling their needs.\\n        Also add the most relevant ones from the following links to showcase Atliq's portfolio: {links_list}\\n        Remember you are Mohan, BDE at AtliQ. \\n        Do not provide a preamble.\\n        ### EMAIL (NO PREAMBLE):\\n        \\n        \")"
      ]
     },
     "execution_count": 37,
     "metadata": {},
     "output_type": "execute_result"
    }
   ],
   "source": [
    "email_prompt = PromptTemplate.from_template(\n",
    "        \"\"\"\n",
    "        ### JOB DESCRIPTION:\n",
    "        {job_description}\n",
    "        \n",
    "        ### INSTRUCTION:\n",
    "        You are Rocky, a business development executive at AtliQ. AtliQ is an AI & Software Consulting company dedicated to facilitating\n",
    "        the seamless integration of business processes through automated tools. \n",
    "        Over our experience, we have empowered numerous enterprises with tailored solutions, fostering scalability, \n",
    "        process optimization, cost reduction, and heightened overall efficiency. \n",
    "        Your job is to write a cold email to the client regarding the job mentioned above describing the capability of AtliQ \n",
    "        in fulfilling their needs.\n",
    "        Also add the most relevant ones from the following links to showcase Atliq's portfolio: {links_list}\n",
    "        Remember you are Mohan, BDE at AtliQ. \n",
    "        Do not provide a preamble.\n",
    "        ### EMAIL (NO PREAMBLE):\n",
    "        \n",
    "        \"\"\"\n",
    "        )\n",
    "email_prompt"
   ]
  },
  {
   "cell_type": "markdown",
   "metadata": {},
   "source": [
    "### chain"
   ]
  },
  {
   "cell_type": "code",
   "execution_count": 38,
   "metadata": {},
   "outputs": [
    {
     "data": {
      "text/plain": [
       "PromptTemplate(input_variables=['job_description', 'links_list'], input_types={}, partial_variables={}, template=\"\\n        ### JOB DESCRIPTION:\\n        {job_description}\\n        \\n        ### INSTRUCTION:\\n        You are Rocky, a business development executive at AtliQ. AtliQ is an AI & Software Consulting company dedicated to facilitating\\n        the seamless integration of business processes through automated tools. \\n        Over our experience, we have empowered numerous enterprises with tailored solutions, fostering scalability, \\n        process optimization, cost reduction, and heightened overall efficiency. \\n        Your job is to write a cold email to the client regarding the job mentioned above describing the capability of AtliQ \\n        in fulfilling their needs.\\n        Also add the most relevant ones from the following links to showcase Atliq's portfolio: {links_list}\\n        Remember you are Mohan, BDE at AtliQ. \\n        Do not provide a preamble.\\n        ### EMAIL (NO PREAMBLE):\\n        \\n        \")"
      ]
     },
     "execution_count": 38,
     "metadata": {},
     "output_type": "execute_result"
    }
   ],
   "source": [
    "email_chain = email_prompt | llm\n",
    "email_prompt"
   ]
  },
  {
   "cell_type": "markdown",
   "metadata": {},
   "source": [
    "### response"
   ]
  },
  {
   "cell_type": "code",
   "execution_count": 39,
   "metadata": {},
   "outputs": [
    {
     "name": "stdout",
     "output_type": "stream",
     "text": [
      "Subject: Expert Machine Learning Solutions for Apple's Business Intelligence Team\n",
      "\n",
      "Dear Hiring Manager,\n",
      "\n",
      "I came across the job description for a Machine Learning Engineer at Apple's Global Business Intelligence team and was impressed by the company's commitment to leveraging data services, analytics, and machine learning solutions to drive business growth. As a Business Development Executive at AtliQ, I'd like to introduce our company as a potential partner in fulfilling your machine learning needs.\n",
      "\n",
      "At AtliQ, we specialize in providing tailored AI and software consulting services that empower enterprises to scale, optimize processes, reduce costs, and enhance overall efficiency. Our team of experts has extensive experience in developing and implementing machine learning solutions using PyTorch, TensorFlow, and other cutting-edge technologies. We're confident that our capabilities align with Apple's requirements, and we'd be delighted to explore potential collaboration opportunities.\n",
      "\n",
      "Our portfolio showcases our expertise in machine learning and Python development, which can be viewed at https://example.com/ml-python-portfolio and https://example.com/python-portfolio. These examples demonstrate our ability to design and build innovative solutions that drive business value.\n",
      "\n",
      "We believe that our team's technical expertise, combined with our passion for delivering exceptional results, makes us an ideal partner for Apple's machine learning initiatives. I'd be happy to schedule a call to discuss how AtliQ can support your team in building best-in-class machine learning solutions.\n",
      "\n",
      "Please feel free to contact me at your convenience. I look forward to the opportunity to explore how AtliQ can contribute to Apple's success.\n",
      "\n",
      "Best regards,\n",
      "\n",
      "Rocky\n",
      "Business Development Executive\n",
      "AtliQ\n"
     ]
    }
   ],
   "source": [
    "response = email_chain.invoke({\"job_description\": str(job), \"links_list\": links})\n",
    "print(response.content)"
   ]
  }
 ],
 "metadata": {
  "kernelspec": {
   "display_name": "env",
   "language": "python",
   "name": "python3"
  },
  "language_info": {
   "codemirror_mode": {
    "name": "ipython",
    "version": 3
   },
   "file_extension": ".py",
   "mimetype": "text/x-python",
   "name": "python",
   "nbconvert_exporter": "python",
   "pygments_lexer": "ipython3",
   "version": "3.13.1"
  }
 },
 "nbformat": 4,
 "nbformat_minor": 2
}
